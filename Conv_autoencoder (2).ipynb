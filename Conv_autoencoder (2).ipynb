{
 "cells": [
  {
   "cell_type": "code",
   "execution_count": 1,
   "metadata": {},
   "outputs": [
    {
     "name": "stderr",
     "output_type": "stream",
     "text": [
      "Using TensorFlow backend.\n"
     ]
    }
   ],
   "source": [
    "from keras.layers import Input, Dense, Conv2D, MaxPooling2D, UpSampling2D\n",
    "from keras.models import Model\n",
    "from keras import backend as K\n",
    "from keras.datasets import mnist\n",
    "import numpy as np\n",
    "import matplotlib.pyplot as plt\n",
    "from keras.models import load_model\n",
    "import os"
   ]
  },
  {
   "cell_type": "code",
   "execution_count": 2,
   "metadata": {},
   "outputs": [],
   "source": [
    "# need to change directory to your directory\n",
    "os.chdir('/sfs/qumulo/qproject/sds-capstone-aaai/lsi/TP_notebook')"
   ]
  },
  {
   "cell_type": "markdown",
   "metadata": {},
   "source": [
    "# Convolutional Autoencoder with updating weights"
   ]
  },
  {
   "cell_type": "code",
   "execution_count": 3,
   "metadata": {},
   "outputs": [
    {
     "data": {
      "text/plain": [
       "array([[[[-0.18110327,  0.036237  , -0.0459068 ,  0.00284785,\n",
       "          -0.00606166, -0.08937145,  0.08841358, -0.10239088,\n",
       "          -0.0714201 , -0.1447658 , -0.11431348, -0.00732194,\n",
       "           0.0854155 ,  0.02413665, -0.1504097 , -0.16566767]],\n",
       "\n",
       "        [[ 0.0464922 ,  0.06493805, -0.09338048, -0.04982167,\n",
       "          -0.04716142, -0.14809243, -0.14211954,  0.08572139,\n",
       "          -0.07686973, -0.0806483 , -0.06383897, -0.02954558,\n",
       "          -0.02742481,  0.1191413 ,  0.03451592, -0.1497615 ]],\n",
       "\n",
       "        [[-0.05526794,  0.07741411,  0.01721226,  0.08820672,\n",
       "           0.07461171, -0.04508126,  0.13086884, -0.07013226,\n",
       "          -0.09014836, -0.03746368, -0.06909256,  0.13875191,\n",
       "           0.19720544, -0.00669748, -0.02371715, -0.17665435]]],\n",
       "\n",
       "\n",
       "       [[[ 0.1091799 ,  0.11906122, -0.19523486,  0.05696972,\n",
       "          -0.15655836,  0.15757819, -0.09090699, -0.17898743,\n",
       "           0.01294087,  0.12604062, -0.15748295,  0.11118574,\n",
       "           0.11065753,  0.10760482,  0.15461655, -0.02225144]],\n",
       "\n",
       "        [[ 0.16486965,  0.07454528, -0.10601119,  0.15428086,\n",
       "          -0.00122723, -0.06198597, -0.17286614,  0.01625684,\n",
       "          -0.16726784, -0.07300158,  0.1477608 ,  0.1258245 ,\n",
       "           0.15852346, -0.182817  ,  0.0004618 , -0.14256114]],\n",
       "\n",
       "        [[-0.18942013, -0.16272841, -0.18395235, -0.10715669,\n",
       "           0.0619529 ,  0.09704654,  0.14497508,  0.07654588,\n",
       "          -0.03977309,  0.02499864,  0.08914141, -0.18064563,\n",
       "           0.02011341,  0.09427027, -0.10050997, -0.13028991]]],\n",
       "\n",
       "\n",
       "       [[[ 0.04298964,  0.13234155,  0.0257788 ,  0.11199696,\n",
       "          -0.13282615,  0.00340521,  0.18858932,  0.10400204,\n",
       "          -0.04870063,  0.18043844,  0.13507222, -0.02222364,\n",
       "           0.00623488,  0.1069736 ,  0.12404312, -0.0381123 ]],\n",
       "\n",
       "        [[ 0.18084063, -0.0106567 , -0.1728745 ,  0.08967362,\n",
       "           0.17942579,  0.0150594 , -0.16122413,  0.1444938 ,\n",
       "           0.1727738 ,  0.15544094,  0.06232552, -0.19780202,\n",
       "           0.12674297,  0.01878519,  0.06135003, -0.1920017 ]],\n",
       "\n",
       "        [[ 0.06835173,  0.1794994 ,  0.11009793, -0.01519476,\n",
       "           0.16622077,  0.18571351,  0.14658569, -0.0641147 ,\n",
       "           0.12412815, -0.12303063,  0.02219163, -0.15631257,\n",
       "          -0.08345116, -0.01058692,  0.19349094,  0.13364546]]]],\n",
       "      dtype=float32)"
      ]
     },
     "execution_count": 3,
     "metadata": {},
     "output_type": "execute_result"
    }
   ],
   "source": [
    "input_img = Input(shape=(28, 28, 1))  # adapt this if using `channels_first` image data format\n",
    "\n",
    "x = Conv2D(16, (3, 3), activation='relu', padding='same')(input_img)\n",
    "x = MaxPooling2D((2, 2), padding='same')(x)\n",
    "x = Conv2D(8, (3, 3), activation='relu', padding='same')(x)\n",
    "x = MaxPooling2D((2, 2), padding='same')(x)\n",
    "x = Conv2D(8, (3, 3), activation='relu', padding='same')(x)\n",
    "encoded = MaxPooling2D((2, 2), padding='same')(x)\n",
    "\n",
    "# at this point the representation is (4, 4, 8) i.e. 128-dimensional\n",
    "\n",
    "x = Conv2D(8, (3, 3), activation='relu', padding='same')(encoded)\n",
    "x = UpSampling2D((2, 2))(x)\n",
    "x = Conv2D(8, (3, 3), activation='relu', padding='same')(x)\n",
    "x = UpSampling2D((2, 2))(x)\n",
    "x = Conv2D(16, (3, 3), activation='relu')(x)\n",
    "x = UpSampling2D((2, 2))(x)\n",
    "decoded = Conv2D(1, (3, 3), activation='sigmoid', padding='same')(x)\n",
    "\n",
    "autoencoder = Model(input_img, decoded)\n",
    "autoencoder.compile(optimizer='adadelta', loss='binary_crossentropy')\n",
    "\n",
    "# display the weights of the first layer \n",
    "layer_num = 1\n",
    "autoencoder.layers[layer_num].get_weights()[0]"
   ]
  },
  {
   "cell_type": "markdown",
   "metadata": {},
   "source": [
    "### - function for changing the weight"
   ]
  },
  {
   "cell_type": "code",
   "execution_count": 4,
   "metadata": {},
   "outputs": [],
   "source": [
    "layer_num = 1\n",
    "sigma = 0.01\n",
    "\n",
    "def change_weight(layer_num, sig):\n",
    "    \n",
    "    # get the weight matrix for the first layer\n",
    "    weights = autoencoder.layers[layer_num].get_weights()[0]\n",
    "    # get the weight matrix for the bias \n",
    "    second = autoencoder.layers[layer_num].get_weights()[1]\n",
    "    \n",
    "    # In this example, there are total 3x3 arrays of 16 weights\n",
    "    # it looks like: \n",
    "    \n",
    "    # 16  16  16\n",
    "    # 16  16  16\n",
    "    # 16  16  16\n",
    "    \n",
    "    for i in range(len(weights[0])): # for each row \n",
    "        one = weights[i] \n",
    "        for s in range(len(one)): # for the each arrays of the each row\n",
    "            two = one[s][0]\n",
    "            for x in range(len(two)): # for the every weights in the arrays\n",
    "                # update the weight values by using Gaussian by setting mu = weight, and sigma\n",
    "                two[x] = np.random.normal(two[x], sig, 1)[0] \n",
    "    \n",
    "    # combine the updated weights with the bias weights\n",
    "    updated = [weights,second] \n",
    "    \n",
    "    # update the weights in the autoencoder layer\n",
    "    autoencoder.layers[1].set_weights(updated) \n",
    "    \n",
    "\n",
    "    \n",
    "\n",
    "# change weight. The arguments are (ith layer , sigma)\n",
    "change_weight(1,0.01)"
   ]
  },
  {
   "cell_type": "code",
   "execution_count": 5,
   "metadata": {},
   "outputs": [],
   "source": [
    "(x_train, _), (x_test, _) = mnist.load_data()\n",
    "\n",
    "x_train = x_train.astype('float32') / 255.\n",
    "x_test = x_test.astype('float32') / 255.\n",
    "x_train = np.reshape(x_train, (len(x_train), 28, 28, 1))  # adapt this if using `channels_first` image data format\n",
    "x_test = np.reshape(x_test, (len(x_test), 28, 28, 1))  # adapt this if using `channels_first` image data format"
   ]
  },
  {
   "cell_type": "markdown",
   "metadata": {},
   "source": [
    "### -Updating weights every epochs"
   ]
  },
  {
   "cell_type": "code",
   "execution_count": 6,
   "metadata": {},
   "outputs": [],
   "source": [
    "epoch_num = 20\n",
    "def autoencoder_updator(epochs=epoch_num):\n",
    "    # intial changing weight\n",
    "    change_weight(1,0.01)\n",
    "    change_weight(1,0.02)\n",
    "\n",
    "    # first epoch of fitting autoencoder\n",
    "    autoencoder.fit(x_train, x_train,\n",
    "                    epochs=1,\n",
    "                    batch_size=256,\n",
    "                    shuffle=True,\n",
    "                    validation_data=(x_test, x_test))\n",
    "\n",
    "    # save the weight for the first epoch of the model\n",
    "    autoencoder.save_weights('weight.h5')\n",
    "\n",
    "    \n",
    "    # starting with 2nd epoch, the weights will be saved and loaded using for loop\n",
    "    epoch_in = 2\n",
    "\n",
    "    # \n",
    "    for i in range(epoch_num):\n",
    "        print('Epoch number: %s'%(epoch_in))\n",
    "    \n",
    "        autoencoder.load_weights('weight.h5')\n",
    "    \n",
    "        # update the weight\n",
    "        change_weight(1,0.01)\n",
    "        change_weight(1,0.02)\n",
    "    \n",
    "        # fit the model once\n",
    "        autoencoder.fit(x_train, x_train,\n",
    "                    epochs=1,\n",
    "                    batch_size=256,\n",
    "                    shuffle=True,\n",
    "                    validation_data=(x_test, x_test))\n",
    "    \n",
    "        # save the model weight\n",
    "        autoencoder.save_weights('weight.h5')\n",
    "    \n",
    "        epoch_in += 1\n"
   ]
  },
  {
   "cell_type": "markdown",
   "metadata": {},
   "source": [
    "## Fitting the model"
   ]
  },
  {
   "cell_type": "code",
   "execution_count": 7,
   "metadata": {},
   "outputs": [
    {
     "name": "stdout",
     "output_type": "stream",
     "text": [
      "Train on 60000 samples, validate on 10000 samples\n",
      "Epoch 1/1\n",
      "60000/60000 [==============================] - 10s 170us/step - loss: 0.2389 - val_loss: 0.1917\n",
      "Epoch number: 2\n",
      "Train on 60000 samples, validate on 10000 samples\n",
      "Epoch 1/1\n",
      "60000/60000 [==============================] - 2s 27us/step - loss: 0.1781 - val_loss: 0.1709\n",
      "Epoch number: 3\n",
      "Train on 60000 samples, validate on 10000 samples\n",
      "Epoch 1/1\n",
      "60000/60000 [==============================] - 2s 27us/step - loss: 0.1596 - val_loss: 0.1500\n",
      "Epoch number: 4\n",
      "Train on 60000 samples, validate on 10000 samples\n",
      "Epoch 1/1\n",
      "60000/60000 [==============================] - 2s 27us/step - loss: 0.1488 - val_loss: 0.1443\n",
      "Epoch number: 5\n",
      "Train on 60000 samples, validate on 10000 samples\n",
      "Epoch 1/1\n",
      "60000/60000 [==============================] - 2s 27us/step - loss: 0.1422 - val_loss: 0.1372\n",
      "Epoch number: 6\n",
      "Train on 60000 samples, validate on 10000 samples\n",
      "Epoch 1/1\n",
      "60000/60000 [==============================] - 2s 27us/step - loss: 0.1373 - val_loss: 0.1327\n",
      "Epoch number: 7\n",
      "Train on 60000 samples, validate on 10000 samples\n",
      "Epoch 1/1\n",
      "60000/60000 [==============================] - 2s 27us/step - loss: 0.1336 - val_loss: 0.1270\n",
      "Epoch number: 8\n",
      "Train on 60000 samples, validate on 10000 samples\n",
      "Epoch 1/1\n",
      "60000/60000 [==============================] - 2s 27us/step - loss: 0.1304 - val_loss: 0.1310\n",
      "Epoch number: 9\n",
      "Train on 60000 samples, validate on 10000 samples\n",
      "Epoch 1/1\n",
      "60000/60000 [==============================] - 2s 27us/step - loss: 0.1275 - val_loss: 0.1267\n",
      "Epoch number: 10\n",
      "Train on 60000 samples, validate on 10000 samples\n",
      "Epoch 1/1\n",
      "60000/60000 [==============================] - 2s 27us/step - loss: 0.1256 - val_loss: 0.1242\n",
      "Epoch number: 11\n",
      "Train on 60000 samples, validate on 10000 samples\n",
      "Epoch 1/1\n",
      "60000/60000 [==============================] - 2s 27us/step - loss: 0.1236 - val_loss: 0.1211\n",
      "Epoch number: 12\n",
      "Train on 60000 samples, validate on 10000 samples\n",
      "Epoch 1/1\n",
      "60000/60000 [==============================] - 2s 27us/step - loss: 0.1219 - val_loss: 0.1234\n",
      "Epoch number: 13\n",
      "Train on 60000 samples, validate on 10000 samples\n",
      "Epoch 1/1\n",
      "60000/60000 [==============================] - 2s 27us/step - loss: 0.1205 - val_loss: 0.1182\n",
      "Epoch number: 14\n",
      "Train on 60000 samples, validate on 10000 samples\n",
      "Epoch 1/1\n",
      "60000/60000 [==============================] - 2s 27us/step - loss: 0.1194 - val_loss: 0.1182\n",
      "Epoch number: 15\n",
      "Train on 60000 samples, validate on 10000 samples\n",
      "Epoch 1/1\n",
      "60000/60000 [==============================] - 2s 27us/step - loss: 0.1184 - val_loss: 0.1172\n",
      "Epoch number: 16\n",
      "Train on 60000 samples, validate on 10000 samples\n",
      "Epoch 1/1\n",
      "60000/60000 [==============================] - 2s 27us/step - loss: 0.1176 - val_loss: 0.1182\n",
      "Epoch number: 17\n",
      "Train on 60000 samples, validate on 10000 samples\n",
      "Epoch 1/1\n",
      "60000/60000 [==============================] - 2s 27us/step - loss: 0.1169 - val_loss: 0.1148\n",
      "Epoch number: 18\n",
      "Train on 60000 samples, validate on 10000 samples\n",
      "Epoch 1/1\n",
      "60000/60000 [==============================] - 2s 27us/step - loss: 0.1163 - val_loss: 0.1134\n",
      "Epoch number: 19\n",
      "Train on 60000 samples, validate on 10000 samples\n",
      "Epoch 1/1\n",
      "60000/60000 [==============================] - 2s 27us/step - loss: 0.1151 - val_loss: 0.1162\n",
      "Epoch number: 20\n",
      "Train on 60000 samples, validate on 10000 samples\n",
      "Epoch 1/1\n",
      "60000/60000 [==============================] - 2s 27us/step - loss: 0.1147 - val_loss: 0.1157\n",
      "Epoch number: 21\n",
      "Train on 60000 samples, validate on 10000 samples\n",
      "Epoch 1/1\n",
      "60000/60000 [==============================] - 2s 27us/step - loss: 0.1138 - val_loss: 0.1114\n"
     ]
    }
   ],
   "source": [
    "autoencoder_updator()"
   ]
  },
  {
   "cell_type": "code",
   "execution_count": 8,
   "metadata": {},
   "outputs": [
    {
     "data": {
      "image/png": "[encoded data removed]",
      "text/plain": [
       "<Figure size 1440x288 with 20 Axes>"
      ]
     },
     "metadata": {
      "needs_background": "light"
     },
     "output_type": "display_data"
    }
   ],
   "source": [
    "decoded_imgs = autoencoder.predict(x_test)\n",
    "\n",
    "n = 10\n",
    "plt.figure(figsize=(20, 4))\n",
    "for i in range(n):\n",
    "    # display original\n",
    "    ax = plt.subplot(2, n, i+1)\n",
    "    plt.imshow(x_test[i].reshape(28, 28))\n",
    "    plt.gray()\n",
    "    ax.get_xaxis().set_visible(False)\n",
    "    ax.get_yaxis().set_visible(False)\n",
    "\n",
    "    # display reconstruction\n",
    "    ax = plt.subplot(2, n, i + 1+ n)\n",
    "    plt.imshow(decoded_imgs[i].reshape(28, 28))\n",
    "    plt.gray()\n",
    "    ax.get_xaxis().set_visible(False)\n",
    "    ax.get_yaxis().set_visible(False)\n",
    "plt.show()\n"
   ]
  },
  {
   "cell_type": "code",
   "execution_count": 11,
   "metadata": {},
   "outputs": [
    {
     "data": {
      "image/png": "[encoded data removed]",
      "text/plain": [
       "<Figure size 1440x576 with 10 Axes>"
      ]
     },
     "metadata": {
      "needs_background": "light"
     },
     "output_type": "display_data"
    }
   ],
   "source": [
    "encoded_imgs = autoencoder.predict(x_test)\n",
    "# encoded representation\n",
    "n = 10\n",
    "plt.figure(figsize=(20, 8))\n",
    "for i in range(n):\n",
    "    ax = plt.subplot(1, n, i+1)\n",
    "    plt.imshow(encoded_imgs[i].reshape(28,28))\n",
    "    plt.gray()\n",
    "    ax.get_xaxis().set_visible(False)\n",
    "    ax.get_yaxis().set_visible(False)\n",
    "plt.show()"
   ]
  },
  {
   "cell_type": "code",
   "execution_count": 19,
   "metadata": {},
   "outputs": [],
   "source": [
    "# extracting only encoder and pulling out the encoded imgs\n",
    "encoder = Model(input_img, encoded)\n",
    "encoded_imgs = encoder.predict(x_test)"
   ]
  },
  {
   "cell_type": "code",
   "execution_count": 20,
   "metadata": {},
   "outputs": [
    {
     "name": "stdout",
     "output_type": "stream",
     "text": [
      "(4, 4, 8)\n"
     ]
    }
   ],
   "source": [
    "print(encoded_imgs[0].shape)"
   ]
  },
  {
   "cell_type": "code",
   "execution_count": 21,
   "metadata": {},
   "outputs": [
    {
     "data": {
      "image/png": "[encoded data removed]",
      "text/plain": [
       "<Figure size 1440x576 with 10 Axes>"
      ]
     },
     "metadata": {
      "needs_background": "light"
     },
     "output_type": "display_data"
    }
   ],
   "source": [
    "# encoded representation\n",
    "n = 10\n",
    "plt.figure(figsize=(20, 8))\n",
    "for i in range(n):\n",
    "    ax = plt.subplot(1, n, i+1)\n",
    "    #plt.imshow(encoded_imgs[i].reshape(28,28))\n",
    "    plt.imshow(encoded_imgs[i].reshape(4, 4 * 8).T)\n",
    "    plt.gray()\n",
    "    ax.get_xaxis().set_visible(False)\n",
    "    ax.get_yaxis().set_visible(False)\n",
    "plt.show()"
   ]
  },
  {
   "cell_type": "code",
   "execution_count": null,
   "metadata": {},
   "outputs": [],
   "source": []
  }
 ],
 "metadata": {
  "kernelspec": {
   "display_name": "Tensorflow 2.1/Keras Py3.7",
   "language": "python",
   "name": "tensorflow210_py37"
  },
  "language_info": {
   "codemirror_mode": {
    "name": "ipython",
    "version": 3
   },
   "file_extension": ".py",
   "mimetype": "text/x-python",
   "name": "python",
   "nbconvert_exporter": "python",
   "pygments_lexer": "ipython3",
   "version": "3.7.5"
  }
 },
 "nbformat": 4,
 "nbformat_minor": 2
}
